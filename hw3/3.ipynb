{
 "cells": [
  {
   "cell_type": "code",
   "execution_count": null,
   "outputs": [],
   "source": [
    "3.1"
   ],
   "metadata": {
    "collapsed": false
   },
   "id": "49e689fe0fabaa36"
  },
  {
   "cell_type": "code",
   "execution_count": 1,
   "outputs": [
    {
     "name": "stdout",
     "output_type": "stream",
     "text": [
      "илбароК ,илаворивал-илаворивал ад ен илаворивалыв "
     ]
    }
   ],
   "source": [
    "f = open('input.txt')\n",
    "lines = f.readline()\n",
    "for line in lines.split():\n",
    "    print(line[::-1], end=' ')\n",
    "f.close()"
   ],
   "metadata": {
    "collapsed": false,
    "ExecuteTime": {
     "end_time": "2024-02-24T19:29:52.189329Z",
     "start_time": "2024-02-24T19:29:52.184370Z"
    }
   },
   "id": "a74f0d2351a7a280"
  },
  {
   "cell_type": "code",
   "execution_count": null,
   "outputs": [],
   "source": [
    "3.2"
   ],
   "metadata": {
    "collapsed": false
   },
   "id": "ca534cb2932fe061"
  },
  {
   "cell_type": "code",
   "execution_count": 3,
   "outputs": [
    {
     "name": "stdout",
     "output_type": "stream",
     "text": [
      "В лесу родилась ёлочка,\n"
     ]
    }
   ],
   "source": [
    "f = open('input.txt')\n",
    "lines = f.readlines()\n",
    "l1 = filter(lambda s: 'ё' in s, lines)\n",
    "for i in list(l1):\n",
    "    print(i[0:-1])\n",
    "f.close()"
   ],
   "metadata": {
    "collapsed": false,
    "ExecuteTime": {
     "end_time": "2024-02-24T20:19:49.740587Z",
     "start_time": "2024-02-24T20:19:49.721785Z"
    }
   },
   "id": "c5a04c0bbbd4cc0f"
  },
  {
   "cell_type": "code",
   "execution_count": null,
   "outputs": [],
   "source": [
    "3.3"
   ],
   "metadata": {
    "collapsed": false
   },
   "id": "69e9e85399015812"
  },
  {
   "cell_type": "code",
   "execution_count": 4,
   "outputs": [
    {
     "name": "stdout",
     "output_type": "stream",
     "text": [
      "Мне привезли товар в плохом состоянии. \n",
      "Плата разбита \n",
      "Я хочу вернуть деньги. \n"
     ]
    }
   ],
   "source": [
    "f = open('input.txt')\n",
    "lines = f.readlines()\n",
    "for line in lines:\n",
    "    a = line.split()\n",
    "    for str in a[::2]:\n",
    "        print(str, end=' ')\n",
    "    print()\n",
    "f.close()"
   ],
   "metadata": {
    "collapsed": false,
    "ExecuteTime": {
     "end_time": "2024-02-24T20:34:44.544301Z",
     "start_time": "2024-02-24T20:34:44.527464Z"
    }
   },
   "id": "602b7b27c8176e95"
  },
  {
   "cell_type": "code",
   "execution_count": null,
   "outputs": [],
   "source": [
    "3.4"
   ],
   "metadata": {
    "collapsed": false
   },
   "id": "46c3fad0e5c18b52"
  },
  {
   "cell_type": "code",
   "execution_count": 5,
   "outputs": [],
   "source": [
    "f = open('input.txt')\n",
    "lst1 = []\n",
    "lst2 = []\n",
    "out = open('output.txt', 'w')\n",
    "num = int(f.readline())\n",
    "for i in range(num):\n",
    "    lst1.append(f.readline().strip())\n",
    "for i in range(num):\n",
    "    lst2.append(f.readline().strip())\n",
    "for x, y in zip(lst1, lst2):\n",
    "    print(x, y, sep='\\t', file=out)\n",
    "f.close()"
   ],
   "metadata": {
    "collapsed": false,
    "ExecuteTime": {
     "end_time": "2024-02-24T21:18:41.158302Z",
     "start_time": "2024-02-24T21:18:41.141843Z"
    }
   },
   "id": "c45f2f812fd637ab"
  },
  {
   "cell_type": "code",
   "execution_count": null,
   "outputs": [],
   "source": [
    "3.5"
   ],
   "metadata": {
    "collapsed": false
   },
   "id": "ede66ef5d9e50b0c"
  },
  {
   "cell_type": "code",
   "execution_count": 6,
   "outputs": [
    {
     "name": "stdout",
     "output_type": "stream",
     "text": [
      "1: Dima 2: Petya 3: Sasha\n",
      "1: Dima 2: Petya 3: Misha\n",
      "1: Dima 2: Petya 3: Egor\n",
      "1: Dima 2: Sasha 3: Misha\n",
      "1: Dima 2: Sasha 3: Egor\n",
      "1: Dima 2: Misha 3: Egor\n",
      "1: Petya 2: Sasha 3: Misha\n",
      "1: Petya 2: Sasha 3: Egor\n",
      "1: Petya 2: Misha 3: Egor\n",
      "1: Sasha 2: Misha 3: Egor\n"
     ]
    }
   ],
   "source": [
    "import itertools as it\n",
    "f = open('studygroup.txt')\n",
    "lines = f.readline().split()\n",
    "for x, y, z in it.combinations(lines, 3):\n",
    "    print(\"1:\", x, \"2:\", y, \"3:\", z, sep=' ')\n",
    "f.close()"
   ],
   "metadata": {
    "collapsed": false,
    "ExecuteTime": {
     "end_time": "2024-02-24T21:32:56.358243Z",
     "start_time": "2024-02-24T21:32:56.337515Z"
    }
   },
   "id": "62acedd5dabd0823"
  }
 ],
 "metadata": {
  "kernelspec": {
   "display_name": "Python 3",
   "language": "python",
   "name": "python3"
  },
  "language_info": {
   "codemirror_mode": {
    "name": "ipython",
    "version": 2
   },
   "file_extension": ".py",
   "mimetype": "text/x-python",
   "name": "python",
   "nbconvert_exporter": "python",
   "pygments_lexer": "ipython2",
   "version": "2.7.6"
  }
 },
 "nbformat": 4,
 "nbformat_minor": 5
}
